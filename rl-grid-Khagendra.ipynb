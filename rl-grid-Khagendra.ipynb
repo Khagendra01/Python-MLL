{
 "cells": [
  {
   "cell_type": "markdown",
   "metadata": {},
   "source": [
    "### Notes\n",
    "\n",
    "- Add a markdown cell at the top of this notebook with your name, course number, assignment description, etc.\n",
    "\n",
    "- Look through all the places where there is `#TODO` text, and do those todo's.\n",
    "\n",
    "- You may want to reduce `BATCH_SIZE` down to 10 while debugging, then increase back up to 100 or higher to get more accurate results.\n",
    "\n",
    "- Run all cells, check that your resulting graphs look correct, submit the entire notebook as your lab assignment.\n"
   ]
  },
  {
   "cell_type": "code",
   "execution_count": 1,
   "metadata": {},
   "outputs": [],
   "source": [
    "# install necessary libraries\n",
    "#pip install numpy matplotlib -q"
   ]
  },
  {
   "cell_type": "code",
   "execution_count": 2,
   "metadata": {},
   "outputs": [],
   "source": [
    "# load what we need from numpy, matplotlib\n",
    "import numpy as np\n",
    "from random import randrange, random\n",
    "import matplotlib.pyplot as plt\n",
    "from collections import defaultdict\n",
    "\n",
    "# set numpy print precision to be 2 digits\n",
    "np.set_printoptions(precision=2)\n"
   ]
  },
  {
   "cell_type": "code",
   "execution_count": 3,
   "metadata": {},
   "outputs": [],
   "source": [
    "# create a random-action agent\n",
    "class RandomAgent:\n",
    "    # initialize agent by passing number of possible actions that this agent can take\n",
    "    def __init__(self, numberOfPossibleActions):\n",
    "        # save number of possible actions\n",
    "        self.actions = numberOfPossibleActions\n",
    "        self.reset()\n",
    "    \n",
    "    # the environment will call agent's reset() function prior to every new run\n",
    "    def reset(self):\n",
    "        # this is a dumb random agent, so we have no code here\n",
    "        pass\n",
    "    \n",
    "    # the environment will call agent's step(state) function on every turn\n",
    "    #   the expected output will be the action (an integer between 0 and numberOfPossibleActions)\n",
    "    def step(self, state):\n",
    "        # return random action\n",
    "        return randrange( self.actions )\n",
    "\n",
    "    # the environment will call agent's feedback(reward) function after every step\n",
    "    #   so as to provide reward feedback\n",
    "    def feedback(self, reward):\n",
    "        # this is a dumb random agent that doesn't learn from feedback, so we have no code here\n",
    "        pass\n",
    "\n",
    "    # create a label for this agent\n",
    "    def label(self):\n",
    "        return \"Rand\"\n"
   ]
  },
  {
   "cell_type": "code",
   "execution_count": 4,
   "metadata": {},
   "outputs": [],
   "source": [
    "# Reinforcement Learning agent\n",
    "class RL:\n",
    "    # initialize agent by passing number of possible actions that this agent can take, as well as learning rate and exploration parameters\n",
    "    def __init__(self, numberOfPossibleActions, learningRate = .1, potentialToExplore = .1):\n",
    "        self.numberOfPossibleActions = numberOfPossibleActions\n",
    "        self.learningRate = learningRate\n",
    "        self.potentialToExplore = potentialToExplore\n",
    "        self.reset()\n",
    "    \n",
    "    # the environment will call agent's reset() function prior to every new run\n",
    "    def reset(self):\n",
    "        # set up agent memory as dictionary\n",
    "        #   key will be the state tuple (row,col)\n",
    "        #   value will be an array of action Q-values\n",
    "        self.lastState=None\n",
    "        self.stateActionQvalues = {}\n",
    "\n",
    "    # the environment will call agent's step() function on every turn\n",
    "    #   the expected output will be the action (an integer between 0 and numberOfPossibleActions)\n",
    "    def step(self, state):\n",
    "        # if state hasn't been seen yet, initialize it with an array for storing action Q-values\n",
    "        if state not in self.stateActionQvalues:\n",
    "            self.stateActionQvalues[state]=np.zeros(self.numberOfPossibleActions)\n",
    "        # choose action with highest utility, given the current state\n",
    "        #   or do some exploration\n",
    "        #TODO: replace line below with RL action-selection\n",
    "        if random() < self.potentialToExplore:\n",
    "            self.actionTaken = randrange(self.numberOfPossibleActions)\n",
    "        else:\n",
    "            self.actionTaken = np.argmax( self.stateActionQvalues[state] + \\\n",
    "                np.random.normal(0, self.potentialToExplore, self.numberOfPossibleActions))\n",
    "        # save this state before taking action\n",
    "        self.lastState = state\n",
    "        # return chosen action\n",
    "        return self.actionTaken\n",
    "\n",
    "    def feedback(self, reward):\n",
    "        # update Q-value of last state-action pair based on error-driven learning:\n",
    "        #   Q = Q + lr * ( reward - Q )\n",
    "        #TODO: replace line below with learning\n",
    "        expectedVal = self.stateActionQvalues[self.lastState][self.actionTaken]\n",
    "        self.stateActionQvalues[self.lastState][self.actionTaken] += self.learningRate * (reward - expectedVal)\n",
    "        pass\n",
    "    \n",
    "    # create a label for this agent\n",
    "    def label(self):\n",
    "        # return text label with parameters\n",
    "        return f\"RL(ɑ:{self.learningRate},ɛ:{self.potentialToExplore})\"\n"
   ]
  },
  {
   "cell_type": "code",
   "execution_count": 5,
   "metadata": {},
   "outputs": [],
   "source": [
    "class QRL(RL):\n",
    "    def __init__(self, numberOfPossibleActions, learningRate = .1, potentialToExplore = .1, discountFactor = .8):\n",
    "        self.discountFactor=discountFactor\n",
    "        super().__init__(numberOfPossibleActions,learningRate,potentialToExplore)\n",
    "\n",
    "    #TODO: override RL agent functionality with Q-learning\n",
    "\n",
    "    #overriding\n",
    "    def step(self, state):\n",
    "         \n",
    "         if state not in self.stateActionQvalues:\n",
    "            self.stateActionQvalues[state]=np.zeros(self.numberOfPossibleActions)\n",
    "\n",
    "         if self.lastState:\n",
    "             self.feedback(self.stateActionQvalues[state].max() * self.discountFactor)\n",
    "\n",
    "         if random() < self.potentialToExplore:\n",
    "            self.actionTaken = randrange(self.numberOfPossibleActions)\n",
    "         else:\n",
    "            self.actionTaken = np.argmax( self.stateActionQvalues[state] + \\\n",
    "                np.random.normal(0, self.potentialToExplore, self.numberOfPossibleActions))\n",
    "         \n",
    "         self.lastState = state\n",
    "\n",
    "         return self.actionTaken\n",
    "\n",
    "    # create a label for this agent\n",
    "    def label(self):\n",
    "        # return text label with parameters\n",
    "        return f\"Q(ɑ:{self.learningRate},ɛ:{self.potentialToExplore},γ:{self.discountFactor})\"\n"
   ]
  },
  {
   "cell_type": "code",
   "execution_count": 6,
   "metadata": {},
   "outputs": [],
   "source": [
    "class TracebackRL(RL):\n",
    "    def __init__(self, numberOfPossibleActions, learningRate = .1, potentialToExplore = .1, discountFactor = .8):\n",
    "        self.discountFactor=discountFactor\n",
    "        super().__init__(numberOfPossibleActions,learningRate,potentialToExplore)\n",
    "\n",
    "    #TODO: override RL agent functionality with backwards eligibility tracing\n",
    "\n",
    "    def reset(self):\n",
    "        super().reset()\n",
    "        self.trace = []\n",
    "\n",
    "    def step(self, state):\n",
    "       action = super().step(state)\n",
    "       self.trace.append( ( self.lastState, self.actionTaken ) )\n",
    "       return action\n",
    "\n",
    "    def feedback(self, reward):\n",
    "        self.trace.reverse()\n",
    "\n",
    "        for state, action in self.trace:\n",
    "            eV = self.stateActionQvalues[state][action]\n",
    "            self.stateActionQvalues[state][action] += self.learningRate * ( reward - eV )\n",
    "            reward *= self.discountFactor\n",
    "        \n",
    "        self.trace = []\n",
    "\n",
    "    # create a label for this agent\n",
    "    def label(self):\n",
    "        # return text label with parameters\n",
    "        return f\"Tb(ɑ:{self.learningRate},ɛ:{self.potentialToExplore},γ:{self.discountFactor})\"\n"
   ]
  },
  {
   "cell_type": "code",
   "execution_count": 7,
   "metadata": {},
   "outputs": [],
   "source": [
    "def gridWalk(agent, gridSize=(8,8), runs = 2000, maxSteps = 10000, bins = 20, saveRuns=None):\n",
    "    # we're going to keep track of how long it took agent to reach goal\n",
    "    timeToGoalHistory = []\n",
    "    # let's place agent and goal in a random parts of the grid\n",
    "    goalCell = ( randrange(gridSize[0]), randrange(gridSize[1]) )\n",
    "    agentCell = [ randrange(gridSize[0]), randrange(gridSize[1]) ]\n",
    "    # create function to check if agent is at goal\n",
    "    def agentAtGoal():\n",
    "        return agentCell[0] == goalCell[0] and agentCell[1] == goalCell[1]\n",
    "    # run agent for a given number of runs\n",
    "    for run in range(runs):\n",
    "        if type(saveRuns)==list:\n",
    "            saveRuns.append(np.zeros(gridSize))\n",
    "            saveRuns[-1][goalCell]=2\n",
    "        # place agent in a random cell in the grid (that is not the goal cell)\n",
    "        while agentAtGoal():\n",
    "            agentCell = [ randrange(gridSize[0]), randrange(gridSize[1]) ]\n",
    "        # continue until maxSteps is reached (or until agent solves the problem)\n",
    "        for step in range(maxSteps):\n",
    "            if type(saveRuns)==list:\n",
    "                saveRuns[-1][tuple(agentCell)]=1\n",
    "            # get agent's action\n",
    "            chosenAction = agent.step( tuple(agentCell) )\n",
    "            # move agent based on its action\n",
    "            if chosenAction == 0 and agentCell[0]>0: # move left\n",
    "                agentCell[0]-=1\n",
    "            elif chosenAction == 1 and agentCell[1]>0: # move up\n",
    "                agentCell[1]-=1\n",
    "            elif chosenAction == 2 and agentCell[0]<(gridSize[0]-1): # move right\n",
    "                agentCell[0]+=1\n",
    "            elif chosenAction == 3 and agentCell[1]<(gridSize[1]-1): # move down\n",
    "                agentCell[1]+=1\n",
    "            # if agent is at goal, give positive reward, and we're done with this run\n",
    "            if agentAtGoal():\n",
    "                agent.feedback(1)\n",
    "                break\n",
    "        # save how many steps it took on this run\n",
    "        timeToGoalHistory.append(step)\n",
    "    return np.array(timeToGoalHistory).reshape(runs//bins,bins).mean(1)\n"
   ]
  },
  {
   "cell_type": "code",
   "execution_count": 8,
   "metadata": {},
   "outputs": [],
   "source": [
    "def showSampleRuns(agent, grid_size, runs):\n",
    "    savedRuns=[]\n",
    "    s = gridWalk( agent, grid_size, runs=runs, maxSteps=100, saveRuns=savedRuns )\n",
    "    fig, ax = plt.subplots(nrows=runs//10, ncols=10)\n",
    "    i=0\n",
    "    for row in ax:\n",
    "        for cell in row:\n",
    "            cell.axis('off')\n",
    "            cell.imshow(savedRuns[i], cmap='gray')\n",
    "            i+=1\n",
    "    plt.show()\n"
   ]
  },
  {
   "cell_type": "code",
   "execution_count": 9,
   "metadata": {},
   "outputs": [],
   "source": [
    "def gridWalkBatch(agent, grid=(8,8), runs = 2000, maxSteps = 10000, bins = 20, n=100):\n",
    "    scores = []\n",
    "    for i in range(n):\n",
    "        agent.reset()\n",
    "        scores.append( gridWalk(agent, grid, runs, maxSteps, bins) )\n",
    "    return np.array(scores).mean(0)\n"
   ]
  },
  {
   "cell_type": "code",
   "execution_count": 10,
   "metadata": {},
   "outputs": [],
   "source": [
    "# 4 actions problem -- each action is a direction to walk (up, down, left, right)\n",
    "ACTIONS = 4\n",
    "\n",
    "# gridwalk setup\n",
    "GRID_SIZE = 5,5\n",
    "RUNS = 100\n",
    "MAX_STEPS = 100\n",
    "\n",
    "# will be averaging scores into 20 bins\n",
    "BINS = 10\n",
    "\n",
    "# going to run each agent 100 times\n",
    "BATCH_SIZE = 100\n",
    "\n",
    "# create agents\n",
    "#TODO: change around the agents and arguments below, add or remove agents, see how that changes the results\n",
    "agents=[\n",
    "    RandomAgent( ACTIONS ),\n",
    "    RL( ACTIONS, learningRate=.1, potentialToExplore=0.1 ),\n",
    "    QRL( ACTIONS, learningRate=.1, potentialToExplore=0.1, discountFactor=0.8 ),\n",
    "    TracebackRL( ACTIONS, learningRate=.1, potentialToExplore=0.1, discountFactor=0.8 ),\n",
    "]\n",
    "\n",
    "# run all the agents\n",
    "scores=[ gridWalkBatch(agent, GRID_SIZE, RUNS, MAX_STEPS, BINS, BATCH_SIZE) for agent in agents ]\n"
   ]
  },
  {
   "cell_type": "code",
   "execution_count": 11,
   "metadata": {},
   "outputs": [
    {
     "data": {
      "text/plain": [
       "<matplotlib.legend.Legend at 0x1ea13c133d0>"
      ]
     },
     "execution_count": 11,
     "metadata": {},
     "output_type": "execute_result"
    },
    {
     "data": {
      "image/png": "[encoded data removed]",
      "text/plain": [
       "<Figure size 640x480 with 1 Axes>"
      ]
     },
     "metadata": {},
     "output_type": "display_data"
    }
   ],
   "source": [
    "# plot results\n",
    "plt.ylim(0, MAX_STEPS)\n",
    "plt.xlim(-0.5,BINS+0.5)\n",
    "plt.xticks(np.arange(BINS+1)-0.5, np.arange(0,RUNS+1,RUNS/BINS,int))\n",
    "\n",
    "for i in range(len(agents)):\n",
    "    plt.plot(scores[i], label = agents[i].label())\n",
    "\n",
    "plt.legend(loc='upper center', bbox_to_anchor=(0.5, 1.2),\n",
    "          ncol=4, fancybox=True, shadow=True)\n"
   ]
  },
  {
   "cell_type": "code",
   "execution_count": 12,
   "metadata": {},
   "outputs": [
    {
     "data": {
      "image/png": "[encoded data removed]",
      "text/plain": [
       "<Figure size 640x480 with 100 Axes>"
      ]
     },
     "metadata": {},
     "output_type": "display_data"
    }
   ],
   "source": [
    "showSampleRuns(RL(ACTIONS,.1,.1), (5,5), 100)"
   ]
  },
  {
   "cell_type": "code",
   "execution_count": 13,
   "metadata": {},
   "outputs": [
    {
     "data": {
      "image/png": "[encoded data removed]",
      "text/plain": [
       "<Figure size 640x480 with 100 Axes>"
      ]
     },
     "metadata": {},
     "output_type": "display_data"
    }
   ],
   "source": [
    "showSampleRuns(QRL(ACTIONS,.1,.1,.8), (5,5), 100)"
   ]
  },
  {
   "cell_type": "code",
   "execution_count": 14,
   "metadata": {},
   "outputs": [
    {
     "data": {
      "image/png": "[encoded data removed]",
      "text/plain": [
       "<Figure size 640x480 with 100 Axes>"
      ]
     },
     "metadata": {},
     "output_type": "display_data"
    }
   ],
   "source": [
    "showSampleRuns(TracebackRL(ACTIONS,.1,.1,.8), (5,5), 100)"
   ]
  }
 ],
 "metadata": {
  "kernelspec": {
   "display_name": "Python 3.9.7 64-bit",
   "language": "python",
   "name": "python3"
  },
  "language_info": {
   "codemirror_mode": {
    "name": "ipython",
    "version": 3
   },
   "file_extension": ".py",
   "mimetype": "text/x-python",
   "name": "python",
   "nbconvert_exporter": "python",
   "pygments_lexer": "ipython3",
   "version": "3.11.3"
  },
  "orig_nbformat": 4,
  "vscode": {
   "interpreter": {
    "hash": "479ad82f3133358b7dafe1a37391414418b0625cf1b2f944c467be1f70e3cb4e"
   }
  }
 },
 "nbformat": 4,
 "nbformat_minor": 2
}
