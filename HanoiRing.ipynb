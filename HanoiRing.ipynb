{
 "cells": [
  {
   "cell_type": "code",
   "execution_count": null,
   "metadata": {},
   "outputs": [],
   "source": [
    "# load what we need from numpy, matplotlib\n",
    "import numpy as np\n",
    "from random import randrange, random\n",
    "import matplotlib.pyplot as plt\n",
    "from collections import defaultdict\n",
    "\n",
    "# set numpy print precision to be 2 digits\n",
    "np.set_printoptions(precision=2)\n",
    "\n",
    "# thanks to professor veskler who helped me outside of the class to completely RL agent and make my eyes wide open, also he appreciated my small begineer like questions inside the class too so just a shout out to him."
   ]
  },
  {
   "cell_type": "code",
   "execution_count": null,
   "metadata": {},
   "outputs": [],
   "source": [
    "class RL:\n",
    "    \n",
    "    def __init__(self, numberOfPossibleActions, learningRate = .1, potentialToExplore = .1):\n",
    "        self.numberOfPossibleActions = numberOfPossibleActions\n",
    "        self.learningRate = learningRate\n",
    "        self.potentialToExplore = potentialToExplore\n",
    "        \n",
    "    "
   ]
  }
 ],
 "metadata": {
  "kernelspec": {
   "display_name": "Python 3",
   "language": "python",
   "name": "python3"
  },
  "language_info": {
   "codemirror_mode": {
    "name": "ipython",
    "version": 3
   },
   "file_extension": ".py",
   "mimetype": "text/x-python",
   "name": "python",
   "nbconvert_exporter": "python",
   "pygments_lexer": "ipython3",
   "version": "3.12.0"
  }
 },
 "nbformat": 4,
 "nbformat_minor": 2
}
