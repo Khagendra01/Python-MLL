{
 "cells": [
  {
   "cell_type": "code",
   "execution_count": 3,
   "metadata": {},
   "outputs": [
    {
     "name": "stdout",
     "output_type": "stream",
     "text": [
      "Collecting scipy\n",
      "  Obtaining dependency information for scipy from https://files.pythonhosted.org/packages/e5/ee/c5bc0d4b66a9c38165adf86e8b57be6f76868edf5ea23b3bbee3680e7edf/scipy-1.11.3-cp312-cp312-macosx_10_9_x86_64.whl.metadata\n",
      "  Downloading scipy-1.11.3-cp312-cp312-macosx_10_9_x86_64.whl.metadata (60 kB)\n",
      "\u001b[2K     \u001b[90m━━━━━━━━━━━━━━━━━━━━━━━━━━━━━━━━━━━━━━━\u001b[0m \u001b[32m60.4/60.4 kB\u001b[0m \u001b[31m631.0 kB/s\u001b[0m eta \u001b[36m0:00:00\u001b[0ma \u001b[36m0:00:01\u001b[0m\n",
      "\u001b[?25hCollecting numpy<1.28.0,>=1.21.6 (from scipy)\n",
      "  Obtaining dependency information for numpy<1.28.0,>=1.21.6 from https://files.pythonhosted.org/packages/b1/97/6694e0855b11be0fd8598d484c09edd876ec738a8741025dee072f026c33/numpy-1.26.2-cp312-cp312-macosx_10_9_x86_64.whl.metadata\n",
      "  Downloading numpy-1.26.2-cp312-cp312-macosx_10_9_x86_64.whl.metadata (61 kB)\n",
      "\u001b[2K     \u001b[90m━━━━━━━━━━━━━━━━━━━━━━━━━━━━━━━━━━━━━━━━\u001b[0m \u001b[32m61.2/61.2 kB\u001b[0m \u001b[31m3.1 MB/s\u001b[0m eta \u001b[36m0:00:00\u001b[0m\n",
      "\u001b[?25hDownloading scipy-1.11.3-cp312-cp312-macosx_10_9_x86_64.whl (37.1 MB)\n",
      "\u001b[2K   \u001b[90m━━━━━━━━━━━━━━━━━━━━━━━━━━━━━━━━━━━━━━━━\u001b[0m \u001b[32m37.1/37.1 MB\u001b[0m \u001b[31m16.9 MB/s\u001b[0m eta \u001b[36m0:00:00\u001b[0m00:01\u001b[0m00:01\u001b[0m\n",
      "\u001b[?25hDownloading numpy-1.26.2-cp312-cp312-macosx_10_9_x86_64.whl (20.3 MB)\n",
      "\u001b[2K   \u001b[90m━━━━━━━━━━━━━━━━━━━━━━━━━━━━━━━━━━━━━━━━\u001b[0m \u001b[32m20.3/20.3 MB\u001b[0m \u001b[31m21.1 MB/s\u001b[0m eta \u001b[36m0:00:00\u001b[0m00:01\u001b[0m00:01\u001b[0m\n",
      "\u001b[?25hInstalling collected packages: numpy, scipy\n",
      "Successfully installed numpy-1.26.2 scipy-1.11.3\n",
      "\n",
      "\u001b[1m[\u001b[0m\u001b[34;49mnotice\u001b[0m\u001b[1;39;49m]\u001b[0m\u001b[39;49m A new release of pip is available: \u001b[0m\u001b[31;49m23.2.1\u001b[0m\u001b[39;49m -> \u001b[0m\u001b[32;49m23.3.1\u001b[0m\n",
      "\u001b[1m[\u001b[0m\u001b[34;49mnotice\u001b[0m\u001b[1;39;49m]\u001b[0m\u001b[39;49m To update, run: \u001b[0m\u001b[32;49mpip3 install --upgrade pip\u001b[0m\n"
     ]
    }
   ],
   "source": [
    "from numpy import exp, sqrt, cos, e, pi\n",
    "\n",
    "# objective function\n",
    "def getScore(x, y):\n",
    "\txShifted=x+1.003\n",
    "\tyShifted=y+1.01\n",
    "\treturn -20.0 * exp(-0.2 * sqrt(0.5 * (xShifted**2 + yShifted**2))) - exp(0.5 * (cos(2 * pi * xShifted) + cos(2 * pi * yShifted))) + e + 20.5"
   ]
  },
  {
   "cell_type": "code",
   "execution_count": null,
   "metadata": {},
   "outputs": [],
   "source": [
    "#!pip3 install scipy"
   ]
  },
  {
   "cell_type": "code",
   "execution_count": 4,
   "metadata": {},
   "outputs": [
    {
     "ename": "NameError",
     "evalue": "name 'bounds' is not defined",
     "output_type": "error",
     "traceback": [
      "\u001b[0;31m---------------------------------------------------------------------------\u001b[0m",
      "\u001b[0;31mNameError\u001b[0m                                 Traceback (most recent call last)",
      "\u001b[1;32m/Users/kgen/Documents/Python-MLL/lab10.ipynb Cell 2\u001b[0m line \u001b[0;36m3\n\u001b[1;32m      <a href='vscode-notebook-cell:/Users/kgen/Documents/Python-MLL/lab10.ipynb#W2sZmlsZQ%3D%3D?line=0'>1</a>\u001b[0m \u001b[39mfrom\u001b[39;00m \u001b[39mscipy\u001b[39;00m\u001b[39m.\u001b[39;00m\u001b[39moptimize\u001b[39;00m \u001b[39mimport\u001b[39;00m dual_annealing\n\u001b[1;32m      <a href='vscode-notebook-cell:/Users/kgen/Documents/Python-MLL/lab10.ipynb#W2sZmlsZQ%3D%3D?line=1'>2</a>\u001b[0m bound \u001b[39m=\u001b[39m [(\u001b[39m-\u001b[39m\u001b[39m5.0\u001b[39m, \u001b[39m5.0\u001b[39m), (\u001b[39m-\u001b[39m\u001b[39m5.0\u001b[39m, \u001b[39m5.0\u001b[39m)]\n\u001b[0;32m----> <a href='vscode-notebook-cell:/Users/kgen/Documents/Python-MLL/lab10.ipynb#W2sZmlsZQ%3D%3D?line=2'>3</a>\u001b[0m result \u001b[39m=\u001b[39m dual_annealing( \u001b[39mlambda\u001b[39;00m p: getScore(\u001b[39m*\u001b[39mp), bounds)\n\u001b[1;32m      <a href='vscode-notebook-cell:/Users/kgen/Documents/Python-MLL/lab10.ipynb#W2sZmlsZQ%3D%3D?line=4'>5</a>\u001b[0m \u001b[39mprint\u001b[39m(\u001b[39mf\u001b[39m\u001b[39m'\u001b[39m\u001b[39mbest score found: \u001b[39m\u001b[39m{\u001b[39;00mresult\u001b[39m.\u001b[39mfun\u001b[39m \u001b[39m\u001b[39m:\u001b[39;00m\u001b[39m.4f\u001b[39m\u001b[39m}\u001b[39;00m\u001b[39m'\u001b[39m)\n\u001b[1;32m      <a href='vscode-notebook-cell:/Users/kgen/Documents/Python-MLL/lab10.ipynb#W2sZmlsZQ%3D%3D?line=5'>6</a>\u001b[0m \u001b[39mprint\u001b[39m(\u001b[39mf\u001b[39m\u001b[39m'\u001b[39m\u001b[39mbest parameter values: \u001b[39m\u001b[39m{\u001b[39;00mresult\u001b[39m.\u001b[39mx[\u001b[39m0\u001b[39m]\u001b[39m:\u001b[39;00m\u001b[39m.4f\u001b[39m\u001b[39m}\u001b[39;00m\u001b[39m, \u001b[39m\u001b[39m{\u001b[39;00mresult\u001b[39m.\u001b[39mx[\u001b[39m1\u001b[39m]\u001b[39m:\u001b[39;00m\u001b[39m.4f\u001b[39m\u001b[39m}\u001b[39;00m\u001b[39m'\u001b[39m)\n",
      "\u001b[0;31mNameError\u001b[0m: name 'bounds' is not defined"
     ]
    }
   ],
   "source": [
    "from scipy.optimize import dual_annealing\n",
    "bound = [(-5.0, 5.0), (-5.0, 5.0)]\n",
    "result = dual_annealing( lambda p: getScore(*p), bounds)\n",
    "\n",
    "print(f'best score found: {result.fun :.4f}')\n",
    "print(f'best parameter values: {result.x[0]:.4f}, {result.x[1]:.4f}')\n",
    "print(f'number of times function got called: {result.nfev}')"
   ]
  },
  {
   "cell_type": "code",
   "execution_count": null,
   "metadata": {},
   "outputs": [],
   "source": [
    "import numpy as np\n",
    "import itertools\n",
    "\n",
    "xs = np.arange(-5.0,5.0,0.2)\n",
    "ys = np.arange(-5.0,5.0,0.2)\n",
    "\n",
    "bestScore = 9e9\n",
    "bestParams = []\n",
    "count = 0\n",
    "\n",
    "for params in itertools.product(xs, yx):\n",
    "    score = getScore(x,y)\n",
    "    count += 1\n",
    "    if score < bestScore:\n",
    "        bestScore = score\n",
    "        bestParams = x,y\n",
    "\n",
    "print(f'best score found: {bestScore :.4f}')\n",
    "print(f'best parameter values: {bestParams[0]:.4f}, {bestParams[1]:.4f}')\n",
    "print(f'number of times function got called: {count}')"
   ]
  }
 ],
 "metadata": {
  "kernelspec": {
   "display_name": "Python 3",
   "language": "python",
   "name": "python3"
  },
  "language_info": {
   "codemirror_mode": {
    "name": "ipython",
    "version": 3
   },
   "file_extension": ".py",
   "mimetype": "text/x-python",
   "name": "python",
   "nbconvert_exporter": "python",
   "pygments_lexer": "ipython3",
   "version": "3.12.0"
  }
 },
 "nbformat": 4,
 "nbformat_minor": 2
}
