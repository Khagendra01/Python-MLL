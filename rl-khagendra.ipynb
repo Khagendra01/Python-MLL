{
 "cells": [
  {
   "cell_type": "markdown",
   "metadata": {},
   "source": [
    "### Notes\n",
    "\n",
    "- Add a markdown cell at the top of this notebook with your name, course number, assignment description, etc.\n",
    "\n",
    "- Look through all the places where there is `#TODO` text, and do those todo's.\n",
    "\n",
    "- You may want to reduce `BATCH_SIZE` down to 10 while debugging, then increase back up to 100 or higher to get more accurate results\n"
   ]
  },
  {
   "cell_type": "markdown",
   "metadata": {},
   "source": [
    "\n",
    "\n",
    "### Some numpy tips\n",
    "\n",
    "- to create a numpy array of *n* zero's, use this:\n",
    "\n",
    "        np.zeros(n)\n",
    "\n",
    "- numpy is really good at vector arithmetic; e.g.,\n",
    "\n",
    "        arr = np.array([1.1,2.2,3.3,4.4])\n",
    "        \n",
    "        # arithmetic operations are allowed between array and number\n",
    "        arr2 = arr * 2\n",
    "        # arr2 becomes [2.2, 4.4, 6.6, 8.8]\n",
    "\n",
    "        # arithmetic operations are also allowed between array and array\n",
    "        arr3 = arr + arr2\n",
    "        # arr3 becomes [-1.1, -2.2, -3.3, -4.4]\n",
    "\n",
    "- if you want to get argmax of multiple values, use this:\n",
    "\n",
    "        np.argmax( arrayOfValues )\n",
    "\n",
    "- if you need *n* random values from a normal distribution, use this:\n",
    "\n",
    "        np.random.normal(mean, standardDeviation, n)\n",
    "\n"
   ]
  },
  {
   "cell_type": "code",
   "execution_count": 24,
   "metadata": {},
   "outputs": [],
   "source": [
    "#Khagendra Khatri\n",
    "#CS420\n",
    "#n armed bandit\n",
    "# install necessary libraries\n",
    "!pip install -q numpy matplotlib"
   ]
  },
  {
   "cell_type": "code",
   "execution_count": 25,
   "metadata": {},
   "outputs": [],
   "source": [
    "# load numpy, random, matplotlib\n",
    "import numpy as np\n",
    "from random import randrange, random, shuffle\n",
    "import matplotlib.pyplot as plt\n",
    "\n",
    "# set numpy print precision to be 2 digits\n",
    "np.set_printoptions(precision=2)\n",
    "\n"
   ]
  },
  {
   "cell_type": "code",
   "execution_count": 26,
   "metadata": {},
   "outputs": [],
   "source": [
    "# create a random-action agent\n",
    "class RandomAgent:\n",
    "    # initialize agent by passing number of possible actions that this agent can take\n",
    "    def __init__(self, numberOfPossibleActions):\n",
    "        # save number of possible actions\n",
    "        self.actions = numberOfPossibleActions\n",
    "        self.reset()\n",
    "    \n",
    "    # the environment will call agent's reset() function prior to every new run\n",
    "    def reset(self):\n",
    "        # this is a dumb random agent, so we have no code here\n",
    "        pass\n",
    "    \n",
    "    # the environment will call agent's step() function on every turn\n",
    "    #   the expected output will be the action (an integer between 0 and numberOfPossibleActions)\n",
    "    def step(self):\n",
    "        # return random action\n",
    "        return randrange( self.actions )\n",
    "\n",
    "    # the environment will call agent's feedback(reward) function after every step\n",
    "    #   so as to provide reward feedback\n",
    "    def feedback(self, reward):\n",
    "        # this is a dumb random agent that doesn't learn from feedback, so we have no code here\n",
    "        pass\n",
    "\n",
    "    # create a label for this agent\n",
    "    def label(self):\n",
    "        return \"rand\"\n"
   ]
  },
  {
   "cell_type": "code",
   "execution_count": 27,
   "metadata": {},
   "outputs": [],
   "source": [
    "# create a Reinforcement Learning agent\n",
    "class RL:\n",
    "    # initialize agent by passing number of possible actions that this agent can take, as well as learning rate and exploration parameters\n",
    "    def __init__(self, numberOfPossibleActions, learningRate = .1, potentialToExplore = .1):\n",
    "        self.numberOfPossibleActions = numberOfPossibleActions\n",
    "        self.learningRate = learningRate\n",
    "        self.potentialToExplore = potentialToExplore\n",
    "        self.reset()\n",
    "    \n",
    "    # the environment will call agent's reset() function prior to every new run\n",
    "    def reset(self):\n",
    "        #TODO: set up agent memory (and get rid of the pass statement below)\n",
    "        self.mem = np.zeros(self.numberOfPossibleActions)\n",
    "        pass\n",
    "\n",
    "    # the environment will call agent's step() function on every turn\n",
    "    #   the expected output will be the action (an integer between 0 and numberOfPossibleActions)\n",
    "    def step(self):\n",
    "        # choose the best action\n",
    "        #TODO: change statement below to choose action based on highest expected reward (i.e., check memory to see which action was most successful in the past)\n",
    "        #TODO: add code to use the potentialToExplore parameter for some exploration-exploitation tradeoffs\n",
    "        if random() < self.potentialToExplore:\n",
    "            self.actionTaken = randrange(self.numberOfPossibleActions)\n",
    "        else:\n",
    "            self.actionTaken = np.argmax(self.mem)\n",
    "        # return chosen action\n",
    "        return self.actionTaken\n",
    "\n",
    "    def feedback(self, reward):\n",
    "        #TODO: update memory based on feedback (and get rid of the pass statement below)\n",
    "        #   Add code to change expected value of self.actionTaken (i.e., last taken action) based on reward.\n",
    "        #   You can just track the average reward for each action in agent memory,\n",
    "        #      but it'd be even better if you used error-driven learning,\n",
    "        #      where expected value of action, Q, is changed based on difference between itself and reward, multiplied by learningRate:\n",
    "        #          Q = Q + lr * ( reward - Q )\n",
    "        self.mem[self.actionTaken] += self.learningRate * (reward - self.mem[self.actionTaken])\n",
    "        \n",
    "    \n",
    "    # create a label for this agent\n",
    "    def label(self):\n",
    "        # return text label with learning rate and exploratory parameters\n",
    "        return f\"RL(ɑ:{self.learningRate},ɛ:{self.potentialToExplore})\"\n"
   ]
  },
  {
   "cell_type": "code",
   "execution_count": 28,
   "metadata": {},
   "outputs": [],
   "source": [
    "def nArmedBandit(agent, rewardProbabilities, steps = 200, bins = 20):\n",
    "    # we're going to keep track of all the rewards\n",
    "    rewardHistory = []\n",
    "    # run agent for a given number of steps\n",
    "    for step in range(steps):\n",
    "        # get agent's action\n",
    "        chosenAction = agent.step()\n",
    "        # reward probability is based on agent's action\n",
    "        rewardProbability = rewardProbabilities[ chosenAction ]\n",
    "        # randomly give reward, or not, based on rewardProbability\n",
    "        if random() < rewardProbability:\n",
    "            # give reward\n",
    "            agent.feedback( 1 )\n",
    "            rewardHistory.append(step)\n",
    "        else:\n",
    "            # do not give reward (i.e., give reward of zero)\n",
    "            agent.feedback( 0 )\n",
    "            # rewardHistory.append(0)\n",
    "    return np.histogram(rewardHistory, bins, (0, steps) )[0]\n"
   ]
  },
  {
   "cell_type": "code",
   "execution_count": 29,
   "metadata": {},
   "outputs": [],
   "source": [
    "def nArmedBanditBatch(agent, rewardProbabilities, steps = 200, bins = 20, n=100):\n",
    "    print('running batch for '+agent.label()+'...',end=' ')\n",
    "    scores = []\n",
    "    for i in range(n):\n",
    "        agent.reset()\n",
    "        shuffle(rewardProbabilities)\n",
    "        scores.append( nArmedBandit(agent, rewardProbabilities, steps, bins) )\n",
    "    print('done.')\n",
    "    return np.array(scores).mean(0)\n"
   ]
  },
  {
   "cell_type": "code",
   "execution_count": 30,
   "metadata": {},
   "outputs": [
    {
     "name": "stdout",
     "output_type": "stream",
     "text": [
      "running batch for rand... done.\n",
      "running batch for RL(ɑ:0.5,ɛ:0.1)... done.\n",
      "running batch for RL(ɑ:0.1,ɛ:0.1)... done.\n",
      "running batch for RL(ɑ:0.01,ɛ:0.1)... done.\n",
      "running batch for RL(ɑ:0.005,ɛ:0.1)... done.\n"
     ]
    }
   ],
   "source": [
    "# 4 actions problem -- actions give rewards with probabilities of .3, .7, .5, and .1\n",
    "#   (action 1 is best, giving a reward with probability of .7)\n",
    "ACTION_REWARDS = [.3, .7, .5, .1]\n",
    "ACTIONS = len(ACTION_REWARDS)\n",
    "\n",
    "# going to run n-armed bandit 1000 steps for each agent\n",
    "STEPS = 2000\n",
    "\n",
    "# will be averaging over bins of size 10\n",
    "BINS = 10\n",
    "\n",
    "# going to run each agent 100 times\n",
    "BATCH_SIZE = 500\n",
    "\n",
    "#TODO: change around the agents and arguments below, add or remove agents, see how that changes the results\n",
    "# create agents\n",
    "agents=[\n",
    "    RandomAgent( ACTIONS ),\n",
    "    RL( ACTIONS, learningRate=.5, potentialToExplore=0.1 ),\n",
    "    RL( ACTIONS, learningRate=.1, potentialToExplore=0.1 ),\n",
    "    RL( ACTIONS, learningRate=.01, potentialToExplore=0.1 ),\n",
    "    RL( ACTIONS, learningRate=.005, potentialToExplore=0.1 ),\n",
    "]\n",
    "\n",
    "# run all the agents\n",
    "scores=[ nArmedBanditBatch(agent, ACTION_REWARDS, STEPS, BINS, BATCH_SIZE) for agent in agents ]"
   ]
  },
  {
   "cell_type": "code",
   "execution_count": 31,
   "metadata": {},
   "outputs": [
    {
     "data": {
      "text/plain": [
       "<matplotlib.legend.Legend at 0x21a1d42a910>"
      ]
     },
     "execution_count": 31,
     "metadata": {},
     "output_type": "execute_result"
    },
    {
     "data": {
      "image/png": "[encoded data removed]",
      "text/plain": [
       "<Figure size 640x480 with 1 Axes>"
      ]
     },
     "metadata": {},
     "output_type": "display_data"
    }
   ],
   "source": [
    "# plot results\n",
    "plt.ylim(0, STEPS/BINS)\n",
    "plt.xlim(-0.5,BINS+0.5)\n",
    "plt.xticks(np.arange(BINS+1)-0.5, np.arange(0,STEPS+1,STEPS/BINS,int))\n",
    "\n",
    "for i in range(len(agents)):\n",
    "    plt.plot(scores[i], label = agents[i].label())\n",
    "\n",
    "plt.legend(loc='upper center', bbox_to_anchor=(0.5, 1.2),\n",
    "          ncol=4, fancybox=True, shadow=True)\n"
   ]
  }
 ],
 "metadata": {
  "kernelspec": {
   "display_name": "Python 3.10.2 64-bit",
   "language": "python",
   "name": "python3"
  },
  "language_info": {
   "codemirror_mode": {
    "name": "ipython",
    "version": 3
   },
   "file_extension": ".py",
   "mimetype": "text/x-python",
   "name": "python",
   "nbconvert_exporter": "python",
   "pygments_lexer": "ipython3",
   "version": "3.11.3"
  },
  "orig_nbformat": 4,
  "vscode": {
   "interpreter": {
    "hash": "369f2c481f4da34e4445cda3fffd2e751bd1c4d706f27375911949ba6bb62e1c"
   }
  }
 },
 "nbformat": 4,
 "nbformat_minor": 2
}
