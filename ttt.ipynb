{
 "cells": [
  {
   "cell_type": "markdown",
   "metadata": {},
   "source": [
    "**CS420 - Assignment 4**\n",
    "Khagendra Khatri\\\n",
    "AI class\n",
    "#### Your goal\n",
    "Change rl.py file so that the results of this notebook look approximately like ttt-rl-vs-onebot.png.\n",
    "\n",
    "#### Notes: \n",
    "- Look for `TODO:` notes in rl.py.\n",
    "- You may want to reduce `GAMES_PER_BIN` to a lower number while debugging, then increase it back up before submission.\n",
    "- Don't forget to change `NAME` to be your name in the cell below before running the simulation.\n",
    "- Upload rl.py along with this ttt.ipynb files on blackboard."
   ]
  },
  {
   "cell_type": "code",
   "execution_count": 1,
   "metadata": {},
   "outputs": [],
   "source": [
    "NAME = 'Khagendra'"
   ]
  },
  {
   "cell_type": "code",
   "execution_count": 2,
   "metadata": {},
   "outputs": [
    {
     "name": "stdout",
     "output_type": "stream",
     "text": [
      "Ready.\n",
      "2023-10-06 08:40:19\n"
     ]
    }
   ],
   "source": [
    "import pandas as pd\n",
    "from collections import defaultdict\n",
    "from datetime import datetime as dt\n",
    "\n",
    "from tttlib import *\n",
    "from players import *\n",
    "\n",
    "\n",
    "def getDateTime():\n",
    "    return dt.now().strftime(\"%Y-%m-%d %H:%M:%S\")\n",
    "\n",
    "print('Ready.')\n",
    "print(getDateTime())"
   ]
  },
  {
   "cell_type": "code",
   "execution_count": 3,
   "metadata": {},
   "outputs": [],
   "source": [
    "# make agents\n",
    "randomBot = RandomBot()\n",
    "oneBot = OneBot()\n",
    "minimaxBot = MinimaxBot()\n",
    "rlBot = RLBot()"
   ]
  },
  {
   "cell_type": "code",
   "execution_count": 4,
   "metadata": {},
   "outputs": [],
   "source": [
    "def runMatchup(xPlayer,oPlayer,bins=10,gamesPerBin=1000):\n",
    "    allResults = {'X wins':[],'O wins':[],'Draw':[]}\n",
    "\n",
    "    print('Running matchups...')\n",
    "\n",
    "    for i in range(bins):\n",
    "        print(f'...{i+1} of {bins}')\n",
    "        matchupResults = defaultdict(int)\n",
    "        for i in range(gamesPerBin):\n",
    "            result = play(xPlayer,oPlayer,printResult=False)\n",
    "            matchupResults[ result ] += 1\n",
    "        allResults['X wins'].append(matchupResults[X])\n",
    "        allResults['O wins'].append(matchupResults[O])\n",
    "        allResults['Draw'].append(matchupResults[None])\n",
    "\n",
    "    print('All done.')\n",
    "    print(dt.now().strftime(\"%Y-%m-%d %H:%M:%S\"))\n",
    "\n",
    "\n",
    "    df = pd.DataFrame(allResults)\n",
    "\n",
    "    ax = df.plot.bar(title=f'CS420-RL-tictactoe {NAME} ({getDateTime()})')\n"
   ]
  },
  {
   "cell_type": "code",
   "execution_count": 5,
   "metadata": {},
   "outputs": [
    {
     "name": "stdout",
     "output_type": "stream",
     "text": [
      "Running matchups...\n",
      "...1 of 40\n"
     ]
    },
    {
     "ename": "TypeError",
     "evalue": "'float' object is not subscriptable",
     "output_type": "error",
     "traceback": [
      "\u001b[1;31m---------------------------------------------------------------------------\u001b[0m",
      "\u001b[1;31mTypeError\u001b[0m                                 Traceback (most recent call last)",
      "\u001b[1;32mc:\\Users\\Khage\\OneDrive\\Documents\\Assignment\\a4\\ttt.ipynb Cell 6\u001b[0m line \u001b[0;36m4\n\u001b[0;32m      <a href='vscode-notebook-cell:/c%3A/Users/Khage/OneDrive/Documents/Assignment/a4/ttt.ipynb#W5sZmlsZQ%3D%3D?line=0'>1</a>\u001b[0m BINS \u001b[39m=\u001b[39m \u001b[39m40\u001b[39m\n\u001b[0;32m      <a href='vscode-notebook-cell:/c%3A/Users/Khage/OneDrive/Documents/Assignment/a4/ttt.ipynb#W5sZmlsZQ%3D%3D?line=1'>2</a>\u001b[0m GAMES_PER_BIN \u001b[39m=\u001b[39m \u001b[39m500\u001b[39m\n\u001b[1;32m----> <a href='vscode-notebook-cell:/c%3A/Users/Khage/OneDrive/Documents/Assignment/a4/ttt.ipynb#W5sZmlsZQ%3D%3D?line=3'>4</a>\u001b[0m runMatchup( RLBot(), OneBot(), bins\u001b[39m=\u001b[39mBINS, gamesPerBin\u001b[39m=\u001b[39mGAMES_PER_BIN )\n",
      "\u001b[1;32mc:\\Users\\Khage\\OneDrive\\Documents\\Assignment\\a4\\ttt.ipynb Cell 6\u001b[0m line \u001b[0;36m1\n\u001b[0;32m      <a href='vscode-notebook-cell:/c%3A/Users/Khage/OneDrive/Documents/Assignment/a4/ttt.ipynb#W5sZmlsZQ%3D%3D?line=7'>8</a>\u001b[0m matchupResults \u001b[39m=\u001b[39m defaultdict(\u001b[39mint\u001b[39m)\n\u001b[0;32m      <a href='vscode-notebook-cell:/c%3A/Users/Khage/OneDrive/Documents/Assignment/a4/ttt.ipynb#W5sZmlsZQ%3D%3D?line=8'>9</a>\u001b[0m \u001b[39mfor\u001b[39;00m i \u001b[39min\u001b[39;00m \u001b[39mrange\u001b[39m(gamesPerBin):\n\u001b[1;32m---> <a href='vscode-notebook-cell:/c%3A/Users/Khage/OneDrive/Documents/Assignment/a4/ttt.ipynb#W5sZmlsZQ%3D%3D?line=9'>10</a>\u001b[0m     result \u001b[39m=\u001b[39m play(xPlayer,oPlayer,printResult\u001b[39m=\u001b[39m\u001b[39mFalse\u001b[39;00m)\n\u001b[0;32m     <a href='vscode-notebook-cell:/c%3A/Users/Khage/OneDrive/Documents/Assignment/a4/ttt.ipynb#W5sZmlsZQ%3D%3D?line=10'>11</a>\u001b[0m     matchupResults[ result ] \u001b[39m+\u001b[39m\u001b[39m=\u001b[39m \u001b[39m1\u001b[39m\n\u001b[0;32m     <a href='vscode-notebook-cell:/c%3A/Users/Khage/OneDrive/Documents/Assignment/a4/ttt.ipynb#W5sZmlsZQ%3D%3D?line=11'>12</a>\u001b[0m allResults[\u001b[39m'\u001b[39m\u001b[39mX wins\u001b[39m\u001b[39m'\u001b[39m]\u001b[39m.\u001b[39mappend(matchupResults[X])\n",
      "File \u001b[1;32mc:\\Users\\Khage\\OneDrive\\Documents\\Assignment\\a4\\tttlib.py:80\u001b[0m, in \u001b[0;36mplay\u001b[1;34m(playerX, playerO, printResult)\u001b[0m\n\u001b[0;32m     77\u001b[0m \u001b[39m# start game\u001b[39;00m\n\u001b[0;32m     78\u001b[0m \u001b[39mwhile\u001b[39;00m currentPlayer:\n\u001b[0;32m     79\u001b[0m     \u001b[39m# get player's move\u001b[39;00m\n\u001b[1;32m---> 80\u001b[0m     playerMove \u001b[39m=\u001b[39m playerX\u001b[39m.\u001b[39mstep(boardState[X],boardState[O],boardState[EMPTY]) \\\n\u001b[0;32m     81\u001b[0m                    \u001b[39mif\u001b[39;00m currentPlayer\u001b[39m==\u001b[39mX \u001b[39melse\u001b[39;00m \\\n\u001b[0;32m     82\u001b[0m                  playerO\u001b[39m.\u001b[39mstep(boardState[O],boardState[X],boardState[EMPTY])\n\u001b[0;32m     83\u001b[0m     \u001b[39m# remove space from available spaces and mark it on the board\u001b[39;00m\n\u001b[0;32m     84\u001b[0m     boardState[EMPTY]\u001b[39m.\u001b[39mremove(playerMove)\n",
      "File \u001b[1;32mc:\\Users\\Khage\\OneDrive\\Documents\\Assignment\\a4\\rl.py:30\u001b[0m, in \u001b[0;36mRLBot.step\u001b[1;34m(self, mySpaces, opponentSpaces, emptySpaces)\u001b[0m\n\u001b[0;32m     18\u001b[0m \u001b[39m\u001b[39m\u001b[39m'''Returns an integer 1-9 to indicate current move, based on this board layout:\u001b[39;00m\n\u001b[0;32m     19\u001b[0m \u001b[39m            1 | 2 | 3\u001b[39;00m\n\u001b[0;32m     20\u001b[0m \u001b[39m            ---+---+---\u001b[39;00m\n\u001b[1;32m   (...)\u001b[0m\n\u001b[0;32m     27\u001b[0m \u001b[39mUses RL to learn best moves at each turn.\u001b[39;00m\n\u001b[0;32m     28\u001b[0m \u001b[39m'''\u001b[39;00m\n\u001b[0;32m     29\u001b[0m state \u001b[39m=\u001b[39m \u001b[39mstr\u001b[39m((mySpaces,opponentSpaces))\n\u001b[1;32m---> 30\u001b[0m action \u001b[39m=\u001b[39m \u001b[39mself\u001b[39m\u001b[39m.\u001b[39mrlActionSelection(state,emptySpaces)\n\u001b[0;32m     31\u001b[0m \u001b[39m#TODO: save latest (state,action) pair (so that later, if there is a reward, the reward can be credited to this state-action pair)\u001b[39;00m\n\u001b[0;32m     32\u001b[0m \u001b[39mself\u001b[39m\u001b[39m.\u001b[39mtrace\u001b[39m.\u001b[39mappend( (state, action) )\n",
      "File \u001b[1;32mc:\\Users\\Khage\\OneDrive\\Documents\\Assignment\\a4\\rl.py:47\u001b[0m, in \u001b[0;36mRLBot.rlActionSelection\u001b[1;34m(self, state, availableActionSet)\u001b[0m\n\u001b[0;32m     45\u001b[0m bestValue \u001b[39m=\u001b[39m \u001b[39m-\u001b[39m\u001b[39m2\u001b[39m\n\u001b[0;32m     46\u001b[0m \u001b[39mfor\u001b[39;00m availableMove \u001b[39min\u001b[39;00m availableActionSet:\n\u001b[1;32m---> 47\u001b[0m    moveValue \u001b[39m=\u001b[39m \u001b[39mself\u001b[39m\u001b[39m.\u001b[39mstateActionQvalues[state][availableMove]\n\u001b[0;32m     48\u001b[0m    \u001b[39mif\u001b[39;00m moveValue \u001b[39m>\u001b[39m bestValue:\n\u001b[0;32m     49\u001b[0m        bestValue \u001b[39m=\u001b[39m moveValue\n",
      "\u001b[1;31mTypeError\u001b[0m: 'float' object is not subscriptable"
     ]
    }
   ],
   "source": [
    "BINS = 40\n",
    "GAMES_PER_BIN = 500\n",
    "\n",
    "runMatchup( RLBot(), OneBot(), bins=BINS, gamesPerBin=GAMES_PER_BIN )"
   ]
  }
 ],
 "metadata": {
  "kernelspec": {
   "display_name": "Python 3.9.7 64-bit",
   "language": "python",
   "name": "python3"
  },
  "language_info": {
   "codemirror_mode": {
    "name": "ipython",
    "version": 3
   },
   "file_extension": ".py",
   "mimetype": "text/x-python",
   "name": "python",
   "nbconvert_exporter": "python",
   "pygments_lexer": "ipython3",
   "version": "3.11.3"
  },
  "vscode": {
   "interpreter": {
    "hash": "479ad82f3133358b7dafe1a37391414418b0625cf1b2f944c467be1f70e3cb4e"
   }
  }
 },
 "nbformat": 4,
 "nbformat_minor": 4
}
